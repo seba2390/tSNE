{
 "cells": [
  {
   "cell_type": "code",
   "execution_count": 1,
   "outputs": [],
   "source": [
    "#https://nlml.github.io/in-raw-numpy/in-raw-numpy-t-sne/\n",
    "\n",
    "import numpy as np\n",
    "import matplotlib.pyplot as plt\n",
    "import torch\n",
    "import torchvision\n",
    "from tqdm import tqdm\n",
    "\n",
    "def keep_numbers(numbers: list[int, ...], dataset) -> torch.Tensor:\n",
    "    a = np.array([(dataset.targets == i).numpy() for i in numbers])\n",
    "    keeps = [False for i in range(len(a[0]))]\n",
    "    for data_point in range(len(a[0])):\n",
    "        for number in range(len(numbers)):\n",
    "            if a[:, data_point][number]:\n",
    "                keeps[data_point] = True\n",
    "    return torch.tensor(keeps, dtype=None)\n",
    "\n",
    "\n",
    "# N.B. don't apply one-hot encoding on labels - we don't need them (unsupervised learning)\n",
    "# Applying ToTensor() transform to change type(data) to torch.Tensor\n",
    "my_transform_1 = torchvision.transforms.ToTensor()\n",
    "my_transforms = torchvision.transforms.Compose([my_transform_1])\n",
    "\n",
    "# Set download=True first time to acquire dataset\n",
    "_MNIST_DATASET = torchvision.datasets.MNIST(root=\"data/\",\n",
    "                                            download=False,\n",
    "                                            train=True,\n",
    "                                            transform=my_transforms)\n",
    "\n",
    "# Picking out numbers from dataset\n",
    "_numbers = [0,1,2,3,4,5,6,7,8,9]\n",
    "_MNIST_DATASET.data = _MNIST_DATASET.data[keep_numbers(_numbers, _MNIST_DATASET)]\n",
    "_MNIST_DATASET.targets = _MNIST_DATASET.targets[keep_numbers(_numbers, _MNIST_DATASET)]\n"
   ],
   "metadata": {
    "collapsed": false,
    "pycharm": {
     "name": "#%%\n"
    }
   }
  },
  {
   "cell_type": "code",
   "execution_count": 2,
   "outputs": [
    {
     "data": {
      "text/plain": "60000"
     },
     "execution_count": 2,
     "metadata": {},
     "output_type": "execute_result"
    }
   ],
   "source": [
    "_MNIST_DATASET.__len__()"
   ],
   "metadata": {
    "collapsed": false,
    "pycharm": {
     "name": "#%%\n"
    }
   }
  },
  {
   "cell_type": "code",
   "execution_count": 10,
   "outputs": [
    {
     "name": "stderr",
     "output_type": "stream",
     "text": [
      "100%|██████████| 60000/60000 [00:00<00:00, 169982.61it/s]\n",
      "100%|██████████| 60000/60000 [00:00<00:00, 128297.83it/s]\n"
     ]
    }
   ],
   "source": [
    "# Normalizing w. respect to max pixel val (255)\n",
    "data_points = []\n",
    "for data_point in tqdm(range(_MNIST_DATASET.__len__())):\n",
    "    data_points.append(_MNIST_DATASET.data[data_point].flatten().to(torch.float) / 255.0)\n",
    "# Normalizing with respect to max label val\n",
    "labels = []\n",
    "for label in tqdm(range(len(_MNIST_DATASET.targets))):\n",
    "    labels.append(_MNIST_DATASET.targets[label].to(torch.float) / 9.0)"
   ],
   "metadata": {
    "collapsed": false,
    "pycharm": {
     "name": "#%%\n"
    }
   }
  },
  {
   "cell_type": "code",
   "execution_count": 5,
   "outputs": [
    {
     "data": {
      "text/plain": "torch.Size([784])"
     },
     "execution_count": 5,
     "metadata": {},
     "output_type": "execute_result"
    }
   ],
   "source": [
    "# Calculating P_j|i\n",
    "P_ij_values = []\n",
    "for j in range(len(data_points)):\n",
    "    x_j = data_points[j]\n",
    "    for i in range(len(data_points)):\n",
    "        if i != j:\n",
    "            x_i = data_points[i]\n",
    "            _numerator = torch.exp(torch.pow(-torch.norm(x_i-x_j),2))\n",
    "            _denominator = 0\n",
    "            for k in range(len(data_points)):\n",
    "                if i != k:\n",
    "                    x_k = data_points[k]\n",
    "                    _denominator += torch.exp(torch.pow(-torch.norm(x_i-x_k),2))"
   ],
   "metadata": {
    "collapsed": false,
    "pycharm": {
     "name": "#%%\n"
    }
   }
  },
  {
   "cell_type": "code",
   "execution_count": 7,
   "outputs": [
    {
     "data": {
      "text/plain": "tensor([0, 1, 4])"
     },
     "execution_count": 7,
     "metadata": {},
     "output_type": "execute_result"
    }
   ],
   "source": [
    "a, b = torch.tensor([1,2,3]), torch.tensor([1,1,1])\n",
    "torch.pow(a-b,2)"
   ],
   "metadata": {
    "collapsed": false,
    "pycharm": {
     "name": "#%%\n"
    }
   }
  },
  {
   "cell_type": "code",
   "execution_count": null,
   "outputs": [],
   "source": [],
   "metadata": {
    "collapsed": false,
    "pycharm": {
     "name": "#%%\n"
    }
   }
  }
 ],
 "metadata": {
  "kernelspec": {
   "display_name": "Python 3",
   "language": "python",
   "name": "python3"
  },
  "language_info": {
   "codemirror_mode": {
    "name": "ipython",
    "version": 2
   },
   "file_extension": ".py",
   "mimetype": "text/x-python",
   "name": "python",
   "nbconvert_exporter": "python",
   "pygments_lexer": "ipython2",
   "version": "2.7.6"
  }
 },
 "nbformat": 4,
 "nbformat_minor": 0
}